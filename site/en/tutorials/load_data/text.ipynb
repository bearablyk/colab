{
  "cells": [
    {
      "cell_type": "code",
      "source": [
        "from transformers import pipeline\n",
        "from sample_data.ai_v1_context import get_context\n",
        "\n",
        "#qa_pipeline = pipeline(\"question-answering\", model=\"sontn122/xlm-roberta-large-finetuned-squad-v2\", local_files_only=True)\n",
        "#qa_pipeline = pipeline(\"summarization\", model=\"sontn122/xlm-roberta-large-finetuned-squad-v2\")\n",
        "qa_pipeline = pipeline(\"summarization\", model=\"Helsinki-NLP/opus-mt-uk-en\")\n",
        "\n",
        "#qa_pipeline = pipeline(\"summarization\", model=\"timpal0l/mdeberta-v3-base-squad2\") #need check\n",
        "\n",
        "# if local_files_only==True need >> transformers-cli download sontn122/xlm-roberta-large-finetuned-squad-v2\n",
        "# text-classification — для класифікації тексту;\n",
        "# token-classification — для задач, таких як розпізнавання сутностей (NER);\n",
        "# translation — для автоматичного перекладу текстів;\n",
        "# summarization — для генерації стислих текстових резюме;\n",
        "# text-generation — для генерації текстів;\n",
        "# zero-shot-classification — для класифікації тексту без додаткового навчання під конкретні мітки.\n",
        "\n",
        "\n",
        "context, questions = get_context()\n",
        "\n",
        "for question in questions:\n",
        "    print(f\"Question: {question}\")\n",
        "    #result = qa_pipeline(question=question, context=context)\n",
        "    #result = qa_pipeline(inputs=f\"Question: {question}\") #text-classification\n",
        "    result = qa_pipeline(question)\n",
        "\n",
        "    #print(\"Answer only:\", result['answer'])\n",
        "    print(\"Answer only:\", result)\n",
        "\n",
        "\n",
        "\n"
      ],
      "metadata": {
        "id": "1pVsCexPmgOb"
      },
      "execution_count": null,
      "outputs": []
    }
  ],
  "metadata": {
    "accelerator": "GPU",
    "colab": {
      "gpuType": "T4",
      "private_outputs": true,
      "provenance": []
    },
    "kernelspec": {
      "display_name": "Python 3",
      "name": "python3"
    }
  },
  "nbformat": 4,
  "nbformat_minor": 0
}