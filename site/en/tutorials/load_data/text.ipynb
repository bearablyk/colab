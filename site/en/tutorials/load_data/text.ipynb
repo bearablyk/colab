{
  "cells": [
    {
      "cell_type": "markdown",
      "source": [
        "перекладач"
      ],
      "metadata": {
        "id": "lvx3_83zwtTE"
      }
    },
    {
      "cell_type": "code",
      "source": [
        "from transformers import pipeline\n",
        "from lib.question_context import *\n",
        "\n",
        "qa_pipeline = pipeline(\"summarization\", model=\"Helsinki-NLP/opus-mt-uk-en\")\n",
        "\n",
        "context, questions = get_context_v2()\n",
        "\n",
        "for question in questions:\n",
        "    print(f\"Question: {question}\")\n",
        "    result = qa_pipeline(question)\n",
        "    print(\"Answer only:\", result)\n"
      ],
      "metadata": {
        "id": "K3dc2faJvx8m"
      },
      "execution_count": null,
      "outputs": []
    }
  ],
  "metadata": {
    "accelerator": "GPU",
    "colab": {
      "gpuType": "T4",
      "private_outputs": true,
      "provenance": []
    },
    "kernelspec": {
      "display_name": "Python 3",
      "name": "python3"
    }
  },
  "nbformat": 4,
  "nbformat_minor": 0
}